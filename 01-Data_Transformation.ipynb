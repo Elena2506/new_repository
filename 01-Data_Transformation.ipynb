{
 "cells": [
  {
   "cell_type": "markdown",
   "id": "d8ce888d-c371-4a52-bd0e-ca5f33ffd64d",
   "metadata": {},
   "source": [
    "---\n",
    "\n",
    "<center> <h1> <span style='color:#292D78'> CREWES Data Science Training </span> </h1> </center>\n",
    "\n",
    "<center> <h2> <span style='color:#DF7F00'> Lecture 6: Data Augmentation and Transformation </span> </h2> </center>\n",
    "\n",
    "---\n",
    "\n",
    "In this [Jupyter Notebook](https://jupyter.org/install) we will see how to augment and transform tabular data, as well how to interpret a correlation plot."
   ]
  },
  {
   "cell_type": "markdown",
   "id": "8dbe6f3e-4d2b-4a79-961f-811ad62432ed",
   "metadata": {},
   "source": [
    "# Data Augmentation vs Data Transformation\n",
    "\n",
    "While data augmentation and data transformation have an overlap of methods, we will use *data augmentation* for the *creation* of new features from the existing ones, and *data transformation* as converting the feature from any type of distribution to something close to a normal distribution (example, the log transformation).\n",
    "\n",
    "Let's start by loading some packages:"
   ]
  },
  {
   "cell_type": "code",
   "execution_count": null,
   "id": "895c0e0e-b2c3-4ab9-b45b-f0f102e79aea",
   "metadata": {},
   "outputs": [],
   "source": [
    "# Core\n",
    "import pandas as pd\n",
    "import numpy as np\n",
    "\n",
    "# Visualization\n",
    "import seaborn as sns\n",
    "import matplotlib.pyplot as plt\n",
    "\n",
    "%matplotlib inline\n",
    "\n",
    "# To avoid warnings\n",
    "import warnings\n",
    "warnings.filterwarnings(\"ignore\") # 😃"
   ]
  },
  {
   "cell_type": "markdown",
   "id": "4e132d8c-2053-4323-8822-7bbc8c611b78",
   "metadata": {},
   "source": [
    "## Loading and Processing the Data"
   ]
  },
  {
   "cell_type": "markdown",
   "id": "4b50d125-7c3d-4de9-a638-5ddda5644eda",
   "metadata": {},
   "source": [
    "Seaborn has a list of data on which we can train our skills."
   ]
  },
  {
   "cell_type": "code",
   "execution_count": null,
   "id": "e12b0220-d4d9-4635-aed9-4bef772c0dd4",
   "metadata": {},
   "outputs": [],
   "source": [
    "sns.get_dataset_names()"
   ]
  },
  {
   "cell_type": "markdown",
   "id": "65675ffc-5572-4609-9a85-f1e5540de4ce",
   "metadata": {},
   "source": [
    "Let's use the *Titanic* dataset, used to predict who survived from the disaster using information like gender, age, social class, etc."
   ]
  },
  {
   "cell_type": "code",
   "execution_count": null,
   "id": "b80e2c09-7659-4d49-a884-e4552b1b4fb5",
   "metadata": {},
   "outputs": [],
   "source": [
    "titanic = sns.load_dataset(\"titanic\")\n",
    "titanic"
   ]
  },
  {
   "cell_type": "markdown",
   "id": "6d03afdc-a52c-4b4f-9449-7d4f56960bc6",
   "metadata": {},
   "source": [
    "There some columns that are the same as others, like `pclass` is the numerical representation of `class`. Let's remove the redundant columns"
   ]
  },
  {
   "cell_type": "code",
   "execution_count": null,
   "id": "4e0213d2-d2dd-4019-9a4d-4971621dad55",
   "metadata": {},
   "outputs": [],
   "source": [
    "titanic.drop([\"pclass\", \"who\", \"embark_town\", \"alive\"], axis = 1, inplace = True)"
   ]
  },
  {
   "cell_type": "markdown",
   "id": "74f78553-2789-4628-81f6-96a064e81047",
   "metadata": {},
   "source": [
    "### Checking Data Types"
   ]
  },
  {
   "cell_type": "code",
   "execution_count": null,
   "id": "cca596fb-9671-4153-9e0a-c8b4f67dd9f5",
   "metadata": {},
   "outputs": [],
   "source": [
    "titanic.info()"
   ]
  },
  {
   "cell_type": "markdown",
   "id": "48f73f79-6676-4e19-9c15-f3bff06b1248",
   "metadata": {},
   "source": [
    "### Statistics of the Data"
   ]
  },
  {
   "cell_type": "code",
   "execution_count": null,
   "id": "09ca98d1-6bde-4659-859a-221d61f8262f",
   "metadata": {},
   "outputs": [],
   "source": [
    "titanic.describe(include = \"all\").T"
   ]
  },
  {
   "cell_type": "markdown",
   "id": "e5ff4cae-a9ca-4755-87bd-0d92e335f441",
   "metadata": {
    "tags": []
   },
   "source": [
    "### Checking for Missing Data"
   ]
  },
  {
   "cell_type": "code",
   "execution_count": null,
   "id": "9db38048-e42a-4530-a294-58d4f0df4035",
   "metadata": {},
   "outputs": [],
   "source": [
    "titanic.isna().sum()"
   ]
  },
  {
   "cell_type": "code",
   "execution_count": null,
   "id": "ea0a573c-0585-4413-ac7a-aa6f7c8bcf85",
   "metadata": {},
   "outputs": [],
   "source": [
    "print(titanic[\"deck\"].unique())\n",
    "print(titanic[\"embarked\"].unique())"
   ]
  },
  {
   "cell_type": "markdown",
   "id": "e5fb38df-fc40-4e19-827d-5a37b6b32367",
   "metadata": {},
   "source": [
    "There are missing data in `age`, `deck`, `embarked`, and `deck`.\n",
    "\n",
    "* `age` is numeric. Let's fill the NaNs with the median per gender.\n",
    "* `deck` is categorical. It is the location in the ship where the passengers were. It seems to be correlated to `class`.. Let's fill it with the most frequent class per `class`.\n",
    "* `embarked` has only 2 missinngs, let's fill with the mont common class of the column."
   ]
  },
  {
   "cell_type": "code",
   "execution_count": null,
   "id": "f9957bda-1cbf-48ac-ac10-8c0b6b9abd01",
   "metadata": {},
   "outputs": [],
   "source": [
    "titanic[\"age\"] = titanic[\"age\"].fillna(titanic.groupby([\"sex\"])[\"age\"].transform(\"median\"))\n",
    "titanic[\"deck\"] = titanic[\"deck\"].fillna(titanic.groupby([\"class\"])[\"deck\"].transform(lambda x: x.mode()[0]))\n",
    "titanic[\"embarked\"] = titanic[\"embarked\"].fillna(titanic[\"embarked\"].mode()[0])"
   ]
  },
  {
   "cell_type": "code",
   "execution_count": null,
   "id": "3242b919-2d0c-4204-88aa-00b785367144",
   "metadata": {},
   "outputs": [],
   "source": [
    "titanic.isna().sum()"
   ]
  },
  {
   "cell_type": "markdown",
   "id": "4b96fa8c-7a2b-474e-a0fe-07f646ab158b",
   "metadata": {},
   "source": [
    "## Data Augmentation and Transformation\n",
    "\n",
    "Aside from Seaborn, Pandas also have its visualization tools over *Matplotlib*:"
   ]
  },
  {
   "cell_type": "markdown",
   "id": "d3b33b5f-20db-4f96-97a3-60b76dbf12ae",
   "metadata": {},
   "source": [
    "### Univariate analysis"
   ]
  },
  {
   "cell_type": "markdown",
   "id": "fe1b24de-2794-495b-8ac8-1c9dcf2c59e9",
   "metadata": {},
   "source": [
    "#### Numeric Features"
   ]
  },
  {
   "cell_type": "code",
   "execution_count": null,
   "id": "e334f239-3295-45f6-ac46-7ce065fa5aa6",
   "metadata": {},
   "outputs": [],
   "source": [
    "titanic.hist(figsize = (20,20));"
   ]
  },
  {
   "cell_type": "markdown",
   "id": "e8a19219-ebca-4221-bfed-ea74bdd88a88",
   "metadata": {},
   "source": [
    "`sibsp`, `parch`, and `fare` are right-skewed and we will apply the *log* on them later."
   ]
  },
  {
   "cell_type": "markdown",
   "id": "842c81c2-c3f8-4711-b6af-00d9d5bb2f9b",
   "metadata": {},
   "source": [
    "#### Gender"
   ]
  },
  {
   "cell_type": "code",
   "execution_count": null,
   "id": "2f4da8fc-52c6-4001-ab0b-5b0238c559e2",
   "metadata": {},
   "outputs": [],
   "source": [
    "sns.countplot(data = titanic, x = \"sex\");"
   ]
  },
  {
   "cell_type": "markdown",
   "id": "67efa862-e5ba-4a45-8114-ef30f1117767",
   "metadata": {},
   "source": [
    "Males are majority."
   ]
  },
  {
   "cell_type": "markdown",
   "id": "8ed5533a-3d85-4547-b3f8-2e28cdcb00de",
   "metadata": {},
   "source": [
    "#### Class"
   ]
  },
  {
   "cell_type": "code",
   "execution_count": null,
   "id": "fc7c61b2-4358-4daf-be94-a190de13d8fd",
   "metadata": {},
   "outputs": [],
   "source": [
    "sns.countplot(data = titanic, x = \"class\")"
   ]
  },
  {
   "cell_type": "markdown",
   "id": "10f095f6-d90e-43cc-b934-52f30ad3e3dd",
   "metadata": {},
   "source": [
    "There are more third class passengers than first and second combined."
   ]
  },
  {
   "cell_type": "markdown",
   "id": "435fe507-7b57-44de-84a1-fba3ed3b143f",
   "metadata": {},
   "source": [
    "#### Embarked"
   ]
  },
  {
   "cell_type": "code",
   "execution_count": null,
   "id": "2ab16412-43f1-4f0a-86ca-c3f9ca7b6bef",
   "metadata": {},
   "outputs": [],
   "source": [
    "sns.countplot(data = titanic, x = \"embarked\")"
   ]
  },
  {
   "cell_type": "markdown",
   "id": "f87878d9-7fbd-40b6-b7e9-56e22b5501cc",
   "metadata": {},
   "source": [
    "Most passagenger embarked in Southampton."
   ]
  },
  {
   "cell_type": "markdown",
   "id": "60ebfcf7-2c28-4f97-a3ba-12adcf32da72",
   "metadata": {},
   "source": [
    "#### Adult Male"
   ]
  },
  {
   "cell_type": "code",
   "execution_count": null,
   "id": "5140b142-2959-4428-b89f-4e60f51bee99",
   "metadata": {},
   "outputs": [],
   "source": [
    "sns.countplot(data = titanic, x = \"adult_male\");"
   ]
  },
  {
   "cell_type": "markdown",
   "id": "892f1dfb-dd3c-45dd-9c64-e30e98dfddfe",
   "metadata": {},
   "source": [
    "Most passengers are male and adults."
   ]
  },
  {
   "cell_type": "markdown",
   "id": "dbfa86ae-2b8e-4e45-83fc-3234f3cddffd",
   "metadata": {},
   "source": [
    "#### Deck"
   ]
  },
  {
   "cell_type": "code",
   "execution_count": null,
   "id": "8566aaae-3863-49bf-a58b-7fbe84bcb9ff",
   "metadata": {},
   "outputs": [],
   "source": [
    "sns.countplot(data = titanic, x = \"deck\");"
   ]
  },
  {
   "cell_type": "markdown",
   "id": "df80c44f-849b-42d3-a849-cc1dcc72362c",
   "metadata": {},
   "source": [
    "Most passengers are from deck *F*."
   ]
  },
  {
   "cell_type": "markdown",
   "id": "907dc7e6-e701-40c6-849d-0ddbd43d8c48",
   "metadata": {},
   "source": [
    "#### Alone"
   ]
  },
  {
   "cell_type": "code",
   "execution_count": null,
   "id": "7f2262e2-6c6b-461e-b669-0c84e56fefa7",
   "metadata": {},
   "outputs": [],
   "source": [
    "sns.countplot(data = titanic, x = \"alone\");"
   ]
  },
  {
   "cell_type": "markdown",
   "id": "908b9187-2bed-4ac0-9ea1-a5fbde264456",
   "metadata": {},
   "source": [
    "Most passengers were travelling alone."
   ]
  },
  {
   "cell_type": "markdown",
   "id": "b3e0bfc7-7db4-4211-abba-98ac68e18a3a",
   "metadata": {},
   "source": [
    "### Bivariate Analysis\n",
    "\n",
    "Let's analyze the distribution of the features by `survived`."
   ]
  },
  {
   "cell_type": "markdown",
   "id": "84f29623-f9a0-43c8-91b1-72ce08d409ad",
   "metadata": {},
   "source": [
    "#### Numerical Features"
   ]
  },
  {
   "cell_type": "code",
   "execution_count": null,
   "id": "a5b50324-fe18-4f27-bb4f-38ee580e5f3e",
   "metadata": {},
   "outputs": [],
   "source": [
    "titanic.info()"
   ]
  },
  {
   "cell_type": "code",
   "execution_count": null,
   "id": "d97dde2b-ece8-499c-8284-6af1e1f27279",
   "metadata": {},
   "outputs": [],
   "source": [
    "# Extracting names of numerical and categorical features\n",
    "cols_num = list(titanic.drop(columns = [\"survived\"]).select_dtypes(include = [\"int64\", \"float64\"]))\n",
    "cols_cat = list(titanic.drop(columns = [\"survived\"]).select_dtypes(include = [\"object\", \"category\", \"bool\"]))\n",
    "\n",
    "print(\"Numerical columns:\", cols_num)\n",
    "print(\"Categorical columns:\", cols_cat)"
   ]
  },
  {
   "cell_type": "code",
   "execution_count": null,
   "id": "a86f6aae-c222-4a37-a136-e6c8ae56d388",
   "metadata": {},
   "outputs": [],
   "source": [
    "# converting survived to categorical feature\n",
    "titanic[\"survived\"] = titanic[\"survived\"].astype(\"category\")"
   ]
  },
  {
   "cell_type": "markdown",
   "id": "1b6f263f-376e-4433-8434-990902a54fb4",
   "metadata": {},
   "source": [
    "Plotting all numerical features by `survived`."
   ]
  },
  {
   "cell_type": "code",
   "execution_count": null,
   "id": "e71a84dc-8b8b-4ff4-b6ed-b6a214f908fe",
   "metadata": {},
   "outputs": [],
   "source": [
    "for i in cols_num:\n",
    "    sns.boxplot(data = titanic, x = \"survived\", y = i, showfliers = False)\n",
    "    plt.title(i)\n",
    "    plt.show()"
   ]
  },
  {
   "cell_type": "markdown",
   "id": "2b99c11c-f7a9-47d4-9de4-7b7067cb9be4",
   "metadata": {},
   "source": [
    "`parch` (number of family members onboard) and `fare` (related to the ticket price) show to have impact if the passenger survived or not. In both cases, survivors had larger numbers."
   ]
  },
  {
   "cell_type": "markdown",
   "id": "58db4711-ebc3-4284-bf20-ca4218ba0300",
   "metadata": {},
   "source": [
    "#### Categorical Features"
   ]
  },
  {
   "cell_type": "code",
   "execution_count": null,
   "id": "2e88145b-219f-4962-91e9-7703401790ef",
   "metadata": {},
   "outputs": [],
   "source": [
    "for i in cols_cat:\n",
    "    sns.countplot(data = titanic, x = i, hue = \"survived\")\n",
    "    plt.title(i)\n",
    "    plt.show()"
   ]
  },
  {
   "cell_type": "markdown",
   "id": "06fa50b9-0aef-4c1f-8a09-9579d1ad7085",
   "metadata": {},
   "source": [
    "* Female passengers had a higher chance of survival, as well as children.\n",
    "* Third class and/or solo passengers were more unfortunate.\n",
    "* Passengers that embarked in *Cherbourg* had a higher chance of survival, the opposite of the passengers in deck *F*."
   ]
  },
  {
   "cell_type": "markdown",
   "id": "4d0e4404-cb38-4aa8-8712-90a320da12aa",
   "metadata": {},
   "source": [
    "### Correlation Plot\n",
    "\n",
    "Let's check the correlation between the numerical features."
   ]
  },
  {
   "cell_type": "code",
   "execution_count": null,
   "id": "0af8179d-6414-44a5-a733-6e9a48f85281",
   "metadata": {},
   "outputs": [],
   "source": [
    "plt.figure(figsize = (10,7))\n",
    "sns.heatmap(data = titanic.corr(), vmin = -1, vmax = 1, annot = True);"
   ]
  },
  {
   "cell_type": "markdown",
   "id": "990e4350-8d3c-47ec-83cb-f86cd646323b",
   "metadata": {},
   "source": [
    "With the *Pearson* correlation, `alone` has a relative high linear negative correlation with `sibsp` (siblings and spouse) and `parch` (number of family members."
   ]
  },
  {
   "cell_type": "code",
   "execution_count": null,
   "id": "851f5b29-5e92-4299-be1b-cc79a7f47f72",
   "metadata": {},
   "outputs": [],
   "source": [
    "plt.figure(figsize = (10,7))\n",
    "sns.heatmap(data = titanic.corr(method = \"spearman\"), vmin = -1, vmax = 1, annot = True);"
   ]
  },
  {
   "cell_type": "markdown",
   "id": "ad39fec5-d5b9-4f8c-9f8d-a6c2d923dafa",
   "metadata": {},
   "source": [
    "By looking at the *Spearman* correlation, both `alone` and `adult_male` have an increased negative correlation `sibsp`, `parch`, and `fare`. The correlation is significantly high between `alone` and `sibsp`."
   ]
  },
  {
   "cell_type": "markdown",
   "id": "4566e63c-2990-42d6-8df1-2d8fba016f21",
   "metadata": {},
   "source": [
    "### Pairs Plot"
   ]
  },
  {
   "cell_type": "code",
   "execution_count": null,
   "id": "3e82c26f-8cf5-45cb-8ea1-53ee150d82c5",
   "metadata": {},
   "outputs": [],
   "source": [
    "sns.pairplot(data = titanic[cols_num + [\"survived\"]], hue = \"survived\");"
   ]
  },
  {
   "cell_type": "markdown",
   "id": "8bfa0d05-e8a4-44c0-878c-56ee39054f35",
   "metadata": {},
   "source": [
    "## Data Augmentation and Log Transformation\n",
    "\n",
    "When thinking about machine learning, we need to have in mind that the data must be ready for the modeling. Features are preferred to have normal distributions, and most algorithms can't handle categorical features, so we will apply the [one-hot-encoding](https://www.kaggle.com/code/dansbecker/using-categorical-data-with-one-hot-encoding/notebook) method (`get_dummies` in Pandas)."
   ]
  },
  {
   "cell_type": "markdown",
   "id": "75e3b4fa-aec9-4d79-bee4-84d7112b96fe",
   "metadata": {},
   "source": [
    "### Log Transformation\n",
    "\n",
    "There are three columns, `sibsp`, `parch`, and `fare`, that will have their distribution transformed by a log function."
   ]
  },
  {
   "cell_type": "code",
   "execution_count": null,
   "id": "99e90839-b5db-4af2-8782-802d56a08d01",
   "metadata": {},
   "outputs": [],
   "source": [
    "cols_norm = [\"sibsp\", \"parch\", \"fare\"]\n",
    "\n",
    "# For loop to apply the log transformation\n",
    "for i in cols_norm:\n",
    "    titanic[\"log_\" + i] = np.log(titanic[i] + 1) # why do we add 1 to the features?\n",
    "\n",
    "titanic"
   ]
  },
  {
   "cell_type": "markdown",
   "id": "02965351-c523-4414-8c60-10784626e67d",
   "metadata": {},
   "source": [
    "Checking distributions:"
   ]
  },
  {
   "cell_type": "code",
   "execution_count": null,
   "id": "a0692b39-b07a-4520-805e-0eb02050fd04",
   "metadata": {},
   "outputs": [],
   "source": [
    "cols = cols_norm + [\"log_sibsp\", \"log_parch\", \"log_fare\"]\n",
    "\n",
    "for i in cols:\n",
    "    sns.histplot(data = titanic, x = i);\n",
    "    plt.title(i)\n",
    "    plt.show()"
   ]
  },
  {
   "cell_type": "markdown",
   "id": "07310362-c1c0-4cd3-b32f-6781e65355ff",
   "metadata": {},
   "source": [
    "`sibsp` and `patch` still have a right skewed distribution due to the high quantity of zeros, while the $\\log$ of `fare` has now a distribution closer to normal."
   ]
  },
  {
   "cell_type": "markdown",
   "id": "ca8b3d12-2f93-41d7-97e5-0b39fd75c96c",
   "metadata": {},
   "source": [
    "### One-Hot-Encoding\n",
    "\n",
    "We will use the Pandas method `get_dummies` with the parameter *drop_first* as True. This parameter drops one of the new created columns, as it can be estimated from the others and is a redundant information."
   ]
  },
  {
   "cell_type": "code",
   "execution_count": null,
   "id": "9dc6cca4-4116-43ad-98eb-d8e5636d8454",
   "metadata": {},
   "outputs": [],
   "source": [
    "data = titanic.copy()\n",
    "temp = data[\"survived\"]\n",
    "data.drop(columns = [\"survived\"], inplace = True)\n",
    "data"
   ]
  },
  {
   "cell_type": "code",
   "execution_count": null,
   "id": "00547876-ff64-4d61-99d4-ddb8fa50e290",
   "metadata": {},
   "outputs": [],
   "source": [
    "data = pd.get_dummies(data, drop_first = True)\n",
    "data[\"survived\"] = temp\n",
    "data"
   ]
  },
  {
   "cell_type": "markdown",
   "id": "ff864d87-11e5-4ea4-b157-781021d7c7af",
   "metadata": {},
   "source": [
    "Now that we have the new columns one-hot encoded and the log transformations, we can drop the original columns for the modeling step."
   ]
  },
  {
   "cell_type": "code",
   "execution_count": null,
   "id": "ebb8febe-c1aa-40a7-8a7d-86481e904f51",
   "metadata": {},
   "outputs": [],
   "source": [
    "data.drop(cols_norm, axis = 1, inplace = True)\n",
    "data"
   ]
  },
  {
   "cell_type": "markdown",
   "id": "d7e0c95f-7ff6-4813-bfc5-761a8fbf04da",
   "metadata": {},
   "source": [
    "# Summary\n",
    "\n",
    "We finished the data analysis and pre-processing of the Titanic dataset and it is ready for the modeling step, which we will start to see next week.\n",
    "\n",
    "From the analysis, we could observe that:\n",
    "\n",
    "* `sibsp`, `parch`, and `fare` were right-skewed and we aaplied the *log* transformation on them.\n",
    "* Adult, males, third class passengers are the majority and the most likely to not have survived.\n",
    "* Passengers that embarked in *Cherbourg* had a higher chance of survival, the opposite of the passengers in deck *F*."
   ]
  }
 ],
 "metadata": {
  "kernelspec": {
   "display_name": "Python [conda env:work]",
   "language": "python",
   "name": "conda-env-work-py"
  },
  "language_info": {
   "codemirror_mode": {
    "name": "ipython",
    "version": 3
   },
   "file_extension": ".py",
   "mimetype": "text/x-python",
   "name": "python",
   "nbconvert_exporter": "python",
   "pygments_lexer": "ipython3",
   "version": "3.9.12"
  }
 },
 "nbformat": 4,
 "nbformat_minor": 5
}
